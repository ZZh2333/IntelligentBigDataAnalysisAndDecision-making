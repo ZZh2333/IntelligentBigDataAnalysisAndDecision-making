{
 "cells": [
  {
   "cell_type": "markdown",
   "id": "ff6f2073",
   "metadata": {},
   "source": [
    "# LightGBM学习示例\n",
    "姓名：邹子涵  \n",
    "学号：202020085400139"
   ]
  },
  {
   "cell_type": "markdown",
   "id": "417fd7f1",
   "metadata": {},
   "source": [
    "# 建立模型"
   ]
  },
  {
   "cell_type": "code",
   "execution_count": 1,
   "id": "b14ddbbd",
   "metadata": {},
   "outputs": [],
   "source": [
    "import pandas as pd\n",
    "import lightgbm as lgb\n",
    "import numpy as np\n",
    "import matplotlib.pyplot as plt\n",
    "\n",
    "from sklearn.model_selection import train_test_split, StratifiedKFold, GridSearchCV\n",
    "from sklearn.metrics import mean_squared_error\n",
    "\n",
    "\n",
    "import warnings\n",
    "warnings.filterwarnings('ignore')\n",
    "\n",
    "%matplotlib inline"
   ]
  },
  {
   "cell_type": "code",
   "execution_count": 2,
   "id": "04c18e2e",
   "metadata": {},
   "outputs": [
    {
     "data": {
      "text/html": [
       "<div>\n",
       "<style scoped>\n",
       "    .dataframe tbody tr th:only-of-type {\n",
       "        vertical-align: middle;\n",
       "    }\n",
       "\n",
       "    .dataframe tbody tr th {\n",
       "        vertical-align: top;\n",
       "    }\n",
       "\n",
       "    .dataframe thead th {\n",
       "        text-align: right;\n",
       "    }\n",
       "</style>\n",
       "<table border=\"1\" class=\"dataframe\">\n",
       "  <thead>\n",
       "    <tr style=\"text-align: right;\">\n",
       "      <th></th>\n",
       "      <th>Sex</th>\n",
       "      <th>Length</th>\n",
       "      <th>Diameter</th>\n",
       "      <th>Height</th>\n",
       "      <th>Whole-weight</th>\n",
       "      <th>Shucked-weight</th>\n",
       "      <th>Viscera-weight</th>\n",
       "      <th>Shell-weight</th>\n",
       "      <th>Rings</th>\n",
       "      <th>id</th>\n",
       "    </tr>\n",
       "  </thead>\n",
       "  <tbody>\n",
       "    <tr>\n",
       "      <th>0</th>\n",
       "      <td>0</td>\n",
       "      <td>0.455</td>\n",
       "      <td>0.365</td>\n",
       "      <td>0.095</td>\n",
       "      <td>0.5140</td>\n",
       "      <td>0.2245</td>\n",
       "      <td>0.1010</td>\n",
       "      <td>0.1500</td>\n",
       "      <td>2.708050</td>\n",
       "      <td>1</td>\n",
       "    </tr>\n",
       "    <tr>\n",
       "      <th>1</th>\n",
       "      <td>0</td>\n",
       "      <td>0.350</td>\n",
       "      <td>0.265</td>\n",
       "      <td>0.090</td>\n",
       "      <td>0.2255</td>\n",
       "      <td>0.0995</td>\n",
       "      <td>0.0485</td>\n",
       "      <td>0.0700</td>\n",
       "      <td>1.945910</td>\n",
       "      <td>2</td>\n",
       "    </tr>\n",
       "    <tr>\n",
       "      <th>2</th>\n",
       "      <td>1</td>\n",
       "      <td>0.530</td>\n",
       "      <td>0.420</td>\n",
       "      <td>0.135</td>\n",
       "      <td>0.6770</td>\n",
       "      <td>0.2565</td>\n",
       "      <td>0.1415</td>\n",
       "      <td>0.2100</td>\n",
       "      <td>2.197225</td>\n",
       "      <td>3</td>\n",
       "    </tr>\n",
       "    <tr>\n",
       "      <th>3</th>\n",
       "      <td>0</td>\n",
       "      <td>0.440</td>\n",
       "      <td>0.365</td>\n",
       "      <td>0.125</td>\n",
       "      <td>0.5160</td>\n",
       "      <td>0.2155</td>\n",
       "      <td>0.1140</td>\n",
       "      <td>0.1550</td>\n",
       "      <td>2.302585</td>\n",
       "      <td>4</td>\n",
       "    </tr>\n",
       "    <tr>\n",
       "      <th>4</th>\n",
       "      <td>2</td>\n",
       "      <td>0.330</td>\n",
       "      <td>0.255</td>\n",
       "      <td>0.080</td>\n",
       "      <td>0.2050</td>\n",
       "      <td>0.0895</td>\n",
       "      <td>0.0395</td>\n",
       "      <td>0.0550</td>\n",
       "      <td>1.945910</td>\n",
       "      <td>5</td>\n",
       "    </tr>\n",
       "    <tr>\n",
       "      <th>...</th>\n",
       "      <td>...</td>\n",
       "      <td>...</td>\n",
       "      <td>...</td>\n",
       "      <td>...</td>\n",
       "      <td>...</td>\n",
       "      <td>...</td>\n",
       "      <td>...</td>\n",
       "      <td>...</td>\n",
       "      <td>...</td>\n",
       "      <td>...</td>\n",
       "    </tr>\n",
       "    <tr>\n",
       "      <th>4172</th>\n",
       "      <td>1</td>\n",
       "      <td>0.565</td>\n",
       "      <td>0.450</td>\n",
       "      <td>0.165</td>\n",
       "      <td>0.8870</td>\n",
       "      <td>0.3700</td>\n",
       "      <td>0.2390</td>\n",
       "      <td>0.2490</td>\n",
       "      <td>2.397895</td>\n",
       "      <td>4173</td>\n",
       "    </tr>\n",
       "    <tr>\n",
       "      <th>4173</th>\n",
       "      <td>0</td>\n",
       "      <td>0.590</td>\n",
       "      <td>0.440</td>\n",
       "      <td>0.135</td>\n",
       "      <td>0.9660</td>\n",
       "      <td>0.4390</td>\n",
       "      <td>0.2145</td>\n",
       "      <td>0.2605</td>\n",
       "      <td>2.302585</td>\n",
       "      <td>4174</td>\n",
       "    </tr>\n",
       "    <tr>\n",
       "      <th>4174</th>\n",
       "      <td>0</td>\n",
       "      <td>0.600</td>\n",
       "      <td>0.475</td>\n",
       "      <td>0.205</td>\n",
       "      <td>1.1760</td>\n",
       "      <td>0.5255</td>\n",
       "      <td>0.2875</td>\n",
       "      <td>0.3080</td>\n",
       "      <td>2.197225</td>\n",
       "      <td>4175</td>\n",
       "    </tr>\n",
       "    <tr>\n",
       "      <th>4175</th>\n",
       "      <td>1</td>\n",
       "      <td>0.625</td>\n",
       "      <td>0.485</td>\n",
       "      <td>0.150</td>\n",
       "      <td>1.0945</td>\n",
       "      <td>0.5310</td>\n",
       "      <td>0.2610</td>\n",
       "      <td>0.2960</td>\n",
       "      <td>2.302585</td>\n",
       "      <td>4176</td>\n",
       "    </tr>\n",
       "    <tr>\n",
       "      <th>4176</th>\n",
       "      <td>0</td>\n",
       "      <td>0.710</td>\n",
       "      <td>0.555</td>\n",
       "      <td>0.195</td>\n",
       "      <td>1.9485</td>\n",
       "      <td>0.9455</td>\n",
       "      <td>0.3765</td>\n",
       "      <td>0.4950</td>\n",
       "      <td>2.484907</td>\n",
       "      <td>4177</td>\n",
       "    </tr>\n",
       "  </tbody>\n",
       "</table>\n",
       "<p>4177 rows × 10 columns</p>\n",
       "</div>"
      ],
      "text/plain": [
       "     Sex  Length  Diameter  Height  Whole-weight  Shucked-weight  \\\n",
       "0      0   0.455     0.365   0.095        0.5140          0.2245   \n",
       "1      0   0.350     0.265   0.090        0.2255          0.0995   \n",
       "2      1   0.530     0.420   0.135        0.6770          0.2565   \n",
       "3      0   0.440     0.365   0.125        0.5160          0.2155   \n",
       "4      2   0.330     0.255   0.080        0.2050          0.0895   \n",
       "...   ..     ...       ...     ...           ...             ...   \n",
       "4172   1   0.565     0.450   0.165        0.8870          0.3700   \n",
       "4173   0   0.590     0.440   0.135        0.9660          0.4390   \n",
       "4174   0   0.600     0.475   0.205        1.1760          0.5255   \n",
       "4175   1   0.625     0.485   0.150        1.0945          0.5310   \n",
       "4176   0   0.710     0.555   0.195        1.9485          0.9455   \n",
       "\n",
       "      Viscera-weight  Shell-weight     Rings    id  \n",
       "0             0.1010        0.1500  2.708050     1  \n",
       "1             0.0485        0.0700  1.945910     2  \n",
       "2             0.1415        0.2100  2.197225     3  \n",
       "3             0.1140        0.1550  2.302585     4  \n",
       "4             0.0395        0.0550  1.945910     5  \n",
       "...              ...           ...       ...   ...  \n",
       "4172          0.2390        0.2490  2.397895  4173  \n",
       "4173          0.2145        0.2605  2.302585  4174  \n",
       "4174          0.2875        0.3080  2.197225  4175  \n",
       "4175          0.2610        0.2960  2.302585  4176  \n",
       "4176          0.3765        0.4950  2.484907  4177  \n",
       "\n",
       "[4177 rows x 10 columns]"
      ]
     },
     "execution_count": 2,
     "metadata": {},
     "output_type": "execute_result"
    }
   ],
   "source": [
    "data = pd.read_csv('dataset/abalone.data',header=None,names=['Sex','Length','Diameter','Height','Whole-weight','Shucked-weight','Viscera-weight','Shell-weight','Rings'])\n",
    "data.loc[(data['Sex']==\"M\"),'Sex']=0\n",
    "data.loc[(data['Sex']==\"F\"),'Sex']=1\n",
    "data.loc[(data['Sex']==\"I\"),'Sex']=2\n",
    "n = len(data)+1\n",
    "nlist = range(1,n)\n",
    "data['id'] = nlist\n",
    "data['Rings'] = np.log(data['Rings'])\n",
    "data"
   ]
  },
  {
   "cell_type": "code",
   "execution_count": 3,
   "id": "05475074",
   "metadata": {},
   "outputs": [
    {
     "data": {
      "text/html": [
       "<div>\n",
       "<style scoped>\n",
       "    .dataframe tbody tr th:only-of-type {\n",
       "        vertical-align: middle;\n",
       "    }\n",
       "\n",
       "    .dataframe tbody tr th {\n",
       "        vertical-align: top;\n",
       "    }\n",
       "\n",
       "    .dataframe thead th {\n",
       "        text-align: right;\n",
       "    }\n",
       "</style>\n",
       "<table border=\"1\" class=\"dataframe\">\n",
       "  <thead>\n",
       "    <tr style=\"text-align: right;\">\n",
       "      <th></th>\n",
       "      <th>Sex</th>\n",
       "      <th>Length</th>\n",
       "      <th>Diameter</th>\n",
       "      <th>Height</th>\n",
       "      <th>Whole-weight</th>\n",
       "      <th>Shucked-weight</th>\n",
       "      <th>Viscera-weight</th>\n",
       "      <th>Shell-weight</th>\n",
       "      <th>Rings</th>\n",
       "      <th>id</th>\n",
       "    </tr>\n",
       "  </thead>\n",
       "  <tbody>\n",
       "    <tr>\n",
       "      <th>3141</th>\n",
       "      <td>2</td>\n",
       "      <td>0.180</td>\n",
       "      <td>0.135</td>\n",
       "      <td>0.080</td>\n",
       "      <td>0.0330</td>\n",
       "      <td>0.0145</td>\n",
       "      <td>0.0070</td>\n",
       "      <td>0.0100</td>\n",
       "      <td>1.609438</td>\n",
       "      <td>3142</td>\n",
       "    </tr>\n",
       "    <tr>\n",
       "      <th>3521</th>\n",
       "      <td>2</td>\n",
       "      <td>0.215</td>\n",
       "      <td>0.150</td>\n",
       "      <td>0.055</td>\n",
       "      <td>0.0410</td>\n",
       "      <td>0.0150</td>\n",
       "      <td>0.0090</td>\n",
       "      <td>0.0125</td>\n",
       "      <td>1.098612</td>\n",
       "      <td>3522</td>\n",
       "    </tr>\n",
       "    <tr>\n",
       "      <th>883</th>\n",
       "      <td>0</td>\n",
       "      <td>0.660</td>\n",
       "      <td>0.530</td>\n",
       "      <td>0.170</td>\n",
       "      <td>1.3905</td>\n",
       "      <td>0.5905</td>\n",
       "      <td>0.2120</td>\n",
       "      <td>0.4530</td>\n",
       "      <td>2.708050</td>\n",
       "      <td>884</td>\n",
       "    </tr>\n",
       "    <tr>\n",
       "      <th>3627</th>\n",
       "      <td>0</td>\n",
       "      <td>0.715</td>\n",
       "      <td>0.525</td>\n",
       "      <td>0.200</td>\n",
       "      <td>1.8900</td>\n",
       "      <td>0.9500</td>\n",
       "      <td>0.4360</td>\n",
       "      <td>0.4305</td>\n",
       "      <td>2.302585</td>\n",
       "      <td>3628</td>\n",
       "    </tr>\n",
       "    <tr>\n",
       "      <th>2106</th>\n",
       "      <td>0</td>\n",
       "      <td>0.595</td>\n",
       "      <td>0.455</td>\n",
       "      <td>0.155</td>\n",
       "      <td>1.0410</td>\n",
       "      <td>0.4160</td>\n",
       "      <td>0.2105</td>\n",
       "      <td>0.3650</td>\n",
       "      <td>2.639057</td>\n",
       "      <td>2107</td>\n",
       "    </tr>\n",
       "    <tr>\n",
       "      <th>...</th>\n",
       "      <td>...</td>\n",
       "      <td>...</td>\n",
       "      <td>...</td>\n",
       "      <td>...</td>\n",
       "      <td>...</td>\n",
       "      <td>...</td>\n",
       "      <td>...</td>\n",
       "      <td>...</td>\n",
       "      <td>...</td>\n",
       "      <td>...</td>\n",
       "    </tr>\n",
       "    <tr>\n",
       "      <th>1033</th>\n",
       "      <td>0</td>\n",
       "      <td>0.650</td>\n",
       "      <td>0.525</td>\n",
       "      <td>0.185</td>\n",
       "      <td>1.6220</td>\n",
       "      <td>0.6645</td>\n",
       "      <td>0.3225</td>\n",
       "      <td>0.4770</td>\n",
       "      <td>2.302585</td>\n",
       "      <td>1034</td>\n",
       "    </tr>\n",
       "    <tr>\n",
       "      <th>3264</th>\n",
       "      <td>1</td>\n",
       "      <td>0.655</td>\n",
       "      <td>0.500</td>\n",
       "      <td>0.140</td>\n",
       "      <td>1.1705</td>\n",
       "      <td>0.5405</td>\n",
       "      <td>0.3175</td>\n",
       "      <td>0.2850</td>\n",
       "      <td>2.484907</td>\n",
       "      <td>3265</td>\n",
       "    </tr>\n",
       "    <tr>\n",
       "      <th>1653</th>\n",
       "      <td>0</td>\n",
       "      <td>0.595</td>\n",
       "      <td>0.450</td>\n",
       "      <td>0.145</td>\n",
       "      <td>0.9590</td>\n",
       "      <td>0.4630</td>\n",
       "      <td>0.2065</td>\n",
       "      <td>0.2535</td>\n",
       "      <td>2.302585</td>\n",
       "      <td>1654</td>\n",
       "    </tr>\n",
       "    <tr>\n",
       "      <th>2607</th>\n",
       "      <td>1</td>\n",
       "      <td>0.625</td>\n",
       "      <td>0.490</td>\n",
       "      <td>0.165</td>\n",
       "      <td>1.1270</td>\n",
       "      <td>0.4770</td>\n",
       "      <td>0.2365</td>\n",
       "      <td>0.3185</td>\n",
       "      <td>2.197225</td>\n",
       "      <td>2608</td>\n",
       "    </tr>\n",
       "    <tr>\n",
       "      <th>2732</th>\n",
       "      <td>2</td>\n",
       "      <td>0.410</td>\n",
       "      <td>0.325</td>\n",
       "      <td>0.110</td>\n",
       "      <td>0.3260</td>\n",
       "      <td>0.1325</td>\n",
       "      <td>0.0750</td>\n",
       "      <td>0.1010</td>\n",
       "      <td>2.079442</td>\n",
       "      <td>2733</td>\n",
       "    </tr>\n",
       "  </tbody>\n",
       "</table>\n",
       "<p>3341 rows × 10 columns</p>\n",
       "</div>"
      ],
      "text/plain": [
       "     Sex  Length  Diameter  Height  Whole-weight  Shucked-weight  \\\n",
       "3141   2   0.180     0.135   0.080        0.0330          0.0145   \n",
       "3521   2   0.215     0.150   0.055        0.0410          0.0150   \n",
       "883    0   0.660     0.530   0.170        1.3905          0.5905   \n",
       "3627   0   0.715     0.525   0.200        1.8900          0.9500   \n",
       "2106   0   0.595     0.455   0.155        1.0410          0.4160   \n",
       "...   ..     ...       ...     ...           ...             ...   \n",
       "1033   0   0.650     0.525   0.185        1.6220          0.6645   \n",
       "3264   1   0.655     0.500   0.140        1.1705          0.5405   \n",
       "1653   0   0.595     0.450   0.145        0.9590          0.4630   \n",
       "2607   1   0.625     0.490   0.165        1.1270          0.4770   \n",
       "2732   2   0.410     0.325   0.110        0.3260          0.1325   \n",
       "\n",
       "      Viscera-weight  Shell-weight     Rings    id  \n",
       "3141          0.0070        0.0100  1.609438  3142  \n",
       "3521          0.0090        0.0125  1.098612  3522  \n",
       "883           0.2120        0.4530  2.708050   884  \n",
       "3627          0.4360        0.4305  2.302585  3628  \n",
       "2106          0.2105        0.3650  2.639057  2107  \n",
       "...              ...           ...       ...   ...  \n",
       "1033          0.3225        0.4770  2.302585  1034  \n",
       "3264          0.3175        0.2850  2.484907  3265  \n",
       "1653          0.2065        0.2535  2.302585  1654  \n",
       "2607          0.2365        0.3185  2.197225  2608  \n",
       "2732          0.0750        0.1010  2.079442  2733  \n",
       "\n",
       "[3341 rows x 10 columns]"
      ]
     },
     "execution_count": 3,
     "metadata": {},
     "output_type": "execute_result"
    }
   ],
   "source": [
    "train,test = train_test_split(data,test_size=0.2,random_state=0)\n",
    "train"
   ]
  },
  {
   "cell_type": "code",
   "execution_count": 4,
   "id": "774daf39",
   "metadata": {},
   "outputs": [],
   "source": [
    "col_features = ['Length','Diameter','Height','Whole-weight','Shucked-weight','Viscera-weight','Shell-weight']"
   ]
  },
  {
   "cell_type": "code",
   "execution_count": 5,
   "id": "8fc736f1",
   "metadata": {},
   "outputs": [],
   "source": [
    "y_train = train['Rings']\n",
    "y_test = test['Rings']\n",
    "X_train = train[col_features]\n",
    "X_test = test[col_features]"
   ]
  },
  {
   "cell_type": "code",
   "execution_count": 6,
   "id": "1545fa97",
   "metadata": {},
   "outputs": [
    {
     "name": "stdout",
     "output_type": "stream",
     "text": [
      "开始训练...\n"
     ]
    }
   ],
   "source": [
    "print('开始训练...')\n",
    "# 直接初始化LGBMRegressor\n",
    "# 这个LightGBM的Regressor和sklearn中其他Regressor基本是一致的\n",
    "gbm = lgb.LGBMRegressor(objective='regression',\n",
    "                        num_leaves=31,\n",
    "                        learning_rate=0.05,\n",
    "                        n_estimators=20)"
   ]
  },
  {
   "cell_type": "code",
   "execution_count": 7,
   "id": "9ab8e2c8",
   "metadata": {},
   "outputs": [
    {
     "name": "stdout",
     "output_type": "stream",
     "text": [
      "[1]\tvalid_0's l1: 0.246934\tvalid_0's l2: 0.102103\n",
      "Training until validation scores don't improve for 5 rounds\n",
      "[2]\tvalid_0's l1: 0.239647\tvalid_0's l2: 0.096088\n",
      "[3]\tvalid_0's l1: 0.232761\tvalid_0's l2: 0.0906872\n",
      "[4]\tvalid_0's l1: 0.226526\tvalid_0's l2: 0.0858003\n",
      "[5]\tvalid_0's l1: 0.220671\tvalid_0's l2: 0.0814027\n",
      "[6]\tvalid_0's l1: 0.215125\tvalid_0's l2: 0.0773429\n",
      "[7]\tvalid_0's l1: 0.2101\tvalid_0's l2: 0.0737105\n",
      "[8]\tvalid_0's l1: 0.20574\tvalid_0's l2: 0.0704171\n",
      "[9]\tvalid_0's l1: 0.201648\tvalid_0's l2: 0.0674953\n",
      "[10]\tvalid_0's l1: 0.197589\tvalid_0's l2: 0.0646706\n",
      "[11]\tvalid_0's l1: 0.193889\tvalid_0's l2: 0.0622652\n",
      "[12]\tvalid_0's l1: 0.190404\tvalid_0's l2: 0.0599897\n",
      "[13]\tvalid_0's l1: 0.187057\tvalid_0's l2: 0.0579597\n",
      "[14]\tvalid_0's l1: 0.184078\tvalid_0's l2: 0.0560922\n",
      "[15]\tvalid_0's l1: 0.181365\tvalid_0's l2: 0.0544116\n",
      "[16]\tvalid_0's l1: 0.178764\tvalid_0's l2: 0.0529102\n",
      "[17]\tvalid_0's l1: 0.17642\tvalid_0's l2: 0.0515316\n",
      "[18]\tvalid_0's l1: 0.174184\tvalid_0's l2: 0.0502696\n",
      "[19]\tvalid_0's l1: 0.17194\tvalid_0's l2: 0.0490731\n",
      "[20]\tvalid_0's l1: 0.170014\tvalid_0's l2: 0.0480172\n",
      "Did not meet early stopping. Best iteration is:\n",
      "[20]\tvalid_0's l1: 0.170014\tvalid_0's l2: 0.0480172\n"
     ]
    },
    {
     "data": {
      "text/plain": [
       "LGBMRegressor(learning_rate=0.05, n_estimators=20, objective='regression')"
      ]
     },
     "execution_count": 7,
     "metadata": {},
     "output_type": "execute_result"
    }
   ],
   "source": [
    "# 使用fit函数拟合\n",
    "gbm.fit(X_train, y_train,\n",
    "        eval_set=[(X_test, y_test)],\n",
    "        eval_metric='l1',\n",
    "        early_stopping_rounds=5)"
   ]
  },
  {
   "cell_type": "code",
   "execution_count": null,
   "id": "1f0e2e4c",
   "metadata": {},
   "outputs": [],
   "source": []
  },
  {
   "cell_type": "code",
   "execution_count": 8,
   "id": "027ce1a0",
   "metadata": {},
   "outputs": [
    {
     "name": "stdout",
     "output_type": "stream",
     "text": [
      "开始预测...\n",
      "预测结果的rmse是:\n",
      "0.21912833130002277\n"
     ]
    }
   ],
   "source": [
    "# 预测\n",
    "print('开始预测...')\n",
    "y_pred = gbm.predict(X_test, num_iteration=gbm.best_iteration_)\n",
    "# 评估预测结果\n",
    "print('预测结果的rmse是:')\n",
    "print(mean_squared_error(y_test, y_pred) ** 0.5)"
   ]
  },
  {
   "cell_type": "markdown",
   "id": "26ccdbc5",
   "metadata": {},
   "source": [
    "# sklearn与LightGBM配合使用\n",
    "LightGBM建模，sklearn评估"
   ]
  },
  {
   "cell_type": "code",
   "execution_count": 9,
   "id": "7662a1c8",
   "metadata": {},
   "outputs": [
    {
     "name": "stdout",
     "output_type": "stream",
     "text": [
      "用网格搜索找到的最优超参数为:\n",
      "{'learning_rate': 0.1, 'n_estimators': 40}\n"
     ]
    }
   ],
   "source": [
    "# 配合scikit-learn的网格搜索交叉验证选择最优超参数\n",
    "estimator = lgb.LGBMRegressor(num_leaves=31)\n",
    "\n",
    "param_grid = {\n",
    "    'learning_rate': [0.01, 0.1, 1],\n",
    "    'n_estimators': [20, 40]\n",
    "}\n",
    "\n",
    "gbm = GridSearchCV(estimator, param_grid)\n",
    "\n",
    "gbm.fit(X_train, y_train)\n",
    "\n",
    "print('用网格搜索找到的最优超参数为:')\n",
    "print(gbm.best_params_)"
   ]
  },
  {
   "cell_type": "code",
   "execution_count": 10,
   "id": "3c7fe342",
   "metadata": {},
   "outputs": [],
   "source": [
    "# 构建lgb中的Dataset数据格式\n",
    "lgb_train = lgb.Dataset(X_train, y_train)\n",
    "lgb_test = lgb.Dataset(X_test, y_test, reference=lgb_train)"
   ]
  },
  {
   "cell_type": "code",
   "execution_count": 11,
   "id": "6e065be0",
   "metadata": {},
   "outputs": [],
   "source": [
    "# 设定参数\n",
    "params = {\n",
    "    'num_leaves': 5,\n",
    "    'metric': ('l1', 'l2'),\n",
    "    'verbose': 0\n",
    "}"
   ]
  },
  {
   "cell_type": "code",
   "execution_count": 12,
   "id": "0f7197fc",
   "metadata": {},
   "outputs": [],
   "source": [
    "evals_result = {}  # to record eval results for plotting"
   ]
  },
  {
   "cell_type": "code",
   "execution_count": 13,
   "id": "6eee5de9",
   "metadata": {},
   "outputs": [
    {
     "name": "stdout",
     "output_type": "stream",
     "text": [
      "开始训练...\n",
      "[LightGBM] [Warning] Auto-choosing col-wise multi-threading, the overhead of testing was 0.000268 seconds.\n",
      "You can set `force_col_wise=true` to remove the overhead.\n",
      "[10]\ttraining's l1: 0.174698\ttraining's l2: 0.0528036\tvalid_1's l1: 0.185061\tvalid_1's l2: 0.0564061\n",
      "[20]\ttraining's l1: 0.158962\ttraining's l2: 0.0431419\tvalid_1's l1: 0.167107\tvalid_1's l2: 0.0461847\n",
      "[30]\ttraining's l1: 0.153613\ttraining's l2: 0.0399823\tvalid_1's l1: 0.161726\tvalid_1's l2: 0.0430753\n",
      "[40]\ttraining's l1: 0.150035\ttraining's l2: 0.0382773\tvalid_1's l1: 0.158755\tvalid_1's l2: 0.041484\n",
      "[50]\ttraining's l1: 0.147632\ttraining's l2: 0.0370814\tvalid_1's l1: 0.156488\tvalid_1's l2: 0.0404316\n",
      "[60]\ttraining's l1: 0.145639\ttraining's l2: 0.0361481\tvalid_1's l1: 0.154522\tvalid_1's l2: 0.0396776\n",
      "[70]\ttraining's l1: 0.143934\ttraining's l2: 0.0353724\tvalid_1's l1: 0.15332\tvalid_1's l2: 0.0392342\n",
      "[80]\ttraining's l1: 0.142986\ttraining's l2: 0.0348732\tvalid_1's l1: 0.153289\tvalid_1's l2: 0.0391782\n",
      "[90]\ttraining's l1: 0.141726\ttraining's l2: 0.0342426\tvalid_1's l1: 0.152577\tvalid_1's l2: 0.0388513\n",
      "[100]\ttraining's l1: 0.140596\ttraining's l2: 0.0337056\tvalid_1's l1: 0.151733\tvalid_1's l2: 0.0384833\n"
     ]
    }
   ],
   "source": [
    "print('开始训练...')\n",
    "# 训练\n",
    "gbm = lgb.train(params,\n",
    "                lgb_train,\n",
    "                num_boost_round=100,\n",
    "                valid_sets=[lgb_train, lgb_test],\n",
    "                feature_name=['f' + str(i + 1) for i in range(7)],\n",
    "                categorical_feature=[21],\n",
    "                evals_result=evals_result,\n",
    "                verbose_eval=10)\n"
   ]
  },
  {
   "cell_type": "code",
   "execution_count": 14,
   "id": "62cc09bb",
   "metadata": {},
   "outputs": [
    {
     "name": "stdout",
     "output_type": "stream",
     "text": [
      "保存模型...\n"
     ]
    },
    {
     "data": {
      "text/plain": [
       "<lightgbm.basic.Booster at 0x1f17e040b70>"
      ]
     },
     "execution_count": 14,
     "metadata": {},
     "output_type": "execute_result"
    }
   ],
   "source": [
    "# 保存模型\n",
    "print('保存模型...')\n",
    "# 保存模型到文件中\n",
    "gbm.save_model('.\\model.txt')"
   ]
  },
  {
   "cell_type": "code",
   "execution_count": 15,
   "id": "fc952214",
   "metadata": {},
   "outputs": [
    {
     "name": "stdout",
     "output_type": "stream",
     "text": [
      "在训练过程中绘图...\n"
     ]
    },
    {
     "data": {
      "image/png": "[encoded data removed]",
      "text/plain": [
       "<Figure size 432x288 with 1 Axes>"
      ]
     },
     "metadata": {
      "needs_background": "light"
     },
     "output_type": "display_data"
    }
   ],
   "source": [
    "print('在训练过程中绘图...')\n",
    "ax = lgb.plot_metric(evals_result, metric='l1')\n",
    "plt.show()"
   ]
  },
  {
   "cell_type": "code",
   "execution_count": 16,
   "id": "681a5dcc",
   "metadata": {},
   "outputs": [
    {
     "name": "stdout",
     "output_type": "stream",
     "text": [
      "画出特征重要度...\n"
     ]
    },
    {
     "data": {
      "image/png": "[encoded data removed]",
      "text/plain": [
       "<Figure size 432x288 with 1 Axes>"
      ]
     },
     "metadata": {
      "needs_background": "light"
     },
     "output_type": "display_data"
    }
   ],
   "source": [
    "print('画出特征重要度...')\n",
    "ax = lgb.plot_importance(gbm, max_num_features=10)\n",
    "plt.show()"
   ]
  }
 ],
 "metadata": {
  "kernelspec": {
   "display_name": "Python 3.6.13 64-bit ('class_IntelligentBigData': conda)",
   "language": "python",
   "name": "python361364bitclassintelligentbigdataconda41a3f7d5e85845f49a34d2348d61ae4d"
  },
  "language_info": {
   "codemirror_mode": {
    "name": "ipython",
    "version": 3
   },
   "file_extension": ".py",
   "mimetype": "text/x-python",
   "name": "python",
   "nbconvert_exporter": "python",
   "pygments_lexer": "ipython3",
   "version": "3.6.13"
  }
 },
 "nbformat": 4,
 "nbformat_minor": 5
}
