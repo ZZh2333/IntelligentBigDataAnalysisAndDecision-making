{
 "cells": [
  {
   "cell_type": "markdown",
   "id": "casual-system",
   "metadata": {},
   "source": [
    "# 旅行者困境"
   ]
  },
  {
   "cell_type": "markdown",
   "id": "active-court",
   "metadata": {},
   "source": [
    "##### 参考文献：https://vknight.org/unpeudemath/mathematics/2017/03/08/simple-evolutionary-process.html\n",
    "##### nashpy：https://github.com/drvinceknight/Nashpy/tree/v0.0.17"
   ]
  },
  {
   "cell_type": "markdown",
   "id": "abstract-macedonia",
   "metadata": {},
   "source": [
    "## 导包"
   ]
  },
  {
   "cell_type": "code",
   "execution_count": 1,
   "id": "marine-timothy",
   "metadata": {},
   "outputs": [],
   "source": [
    "import numpy as np\n",
    "import nashpy as nash\n",
    "import matplotlib.pyplot as plt"
   ]
  },
  {
   "cell_type": "markdown",
   "id": "filled-melbourne",
   "metadata": {},
   "source": [
    "## 博弈游戏  \n",
    "通过传递两个二维数组/列表来创建双向矩阵游戏，每一对数表示该玩家选择该行（列）选择所获得的分数：  \n",
    "（2，2） （4，0） （4，0）  \n",
    "（0，4） （3，3） （5，1）  \n",
    "（0，4） （1，5） （4，4）"
   ]
  },
  {
   "cell_type": "code",
   "execution_count": 2,
   "id": "minus-cameroon",
   "metadata": {},
   "outputs": [
    {
     "data": {
      "text/plain": [
       "[(array([1., 0., 0.]), array([1., 0., 0.]))]"
      ]
     },
     "execution_count": 2,
     "metadata": {},
     "output_type": "execute_result"
    }
   ],
   "source": [
    "td = (np.array([[2,4,4],\n",
    "               [0,3,5],\n",
    "               [0,1,4]]),\n",
    "     np.array([[2,0,0],\n",
    "              [4,3,1],\n",
    "              [4,5,4]]))\n",
    "game = nash.Game(*td)\n",
    "# list(game.equilibria())\n",
    "list(game.support_enumeration())"
   ]
  },
  {
   "cell_type": "markdown",
   "id": "understanding-imperial",
   "metadata": {},
   "source": [
    "这里[1, 0, 0]表示概率向量，表示玩家应该玩给定策略的概率。因此，在这种情况下，两个玩家都应该选择他们的第一选择，这将给我们得分2 ，2。之所以称其为纳什均衡，是因为在此位置，两个玩家都没有理由偏离（如果他们这样做，他们的得分就会下降，例如A选择第2行选项，则B会选择第1列选项导致A得分为0，而B得分为4）。"
   ]
  },
  {
   "cell_type": "markdown",
   "id": "activated-better",
   "metadata": {},
   "source": [
    "Rock\\Paper\\Scissors\\Lizard\\Spock  \n",
    "(0,0) (-1,1) (1,-1) (1,-1) (-1,1)  \n",
    "(1,-1) (0,0) (-1,1) (-1,1) (1,-1)  \n",
    "(-1,1) (1,-1) (0,0) (1,-1) (-1,1)  \n",
    "(-1,1) (1,-1) (-1,1) (0,0) (1,-1)  \n",
    "(1,-1) (-1,1) (1,-1) (-1,1) (0,0)"
   ]
  },
  {
   "cell_type": "code",
   "execution_count": 3,
   "id": "geographic-catholic",
   "metadata": {},
   "outputs": [
    {
     "data": {
      "text/plain": [
       "[(array([0.2, 0.2, 0.2, 0.2, 0.2]), array([0.2, 0.2, 0.2, 0.2, 0.2]))]"
      ]
     },
     "execution_count": 3,
     "metadata": {},
     "output_type": "execute_result"
    }
   ],
   "source": [
    "rpsls = np.array([[0,-1,1,1,-1],\n",
    "                 [1,0,-1,-1,1],\n",
    "                 [-1,1,0,1,-1],\n",
    "                 [-1,1,-1,0,1],\n",
    "                 [1,-1,1,-1,0]])\n",
    "# 另一个矩阵与该矩阵的正负恰好相反，因此直接加负号后拼接在一起\n",
    "rpsls = (rpsls,-rpsls)\n",
    "game = nash.Game(*rpsls)\n",
    "list(game.support_enumeration())"
   ]
  },
  {
   "cell_type": "markdown",
   "id": "sunrise-bunny",
   "metadata": {},
   "source": [
    "我们可以看到，两个玩家都应该随机完美地玩：以正好1/5的概率玩每个选项。这一切都是公平和良好的，纳什均衡在博弈论中是一个非常强大且重要的解决方案"
   ]
  },
  {
   "cell_type": "markdown",
   "id": "unsigned-paris",
   "metadata": {},
   "source": [
    "## python实现博弈过程"
   ]
  },
  {
   "cell_type": "markdown",
   "id": "fossil-colon",
   "metadata": {},
   "source": [
    "### 获得随机选择"
   ]
  },
  {
   "cell_type": "code",
   "execution_count": 4,
   "id": "sharing-salmon",
   "metadata": {},
   "outputs": [],
   "source": [
    "# 默认大小为50\n",
    "def get_population(number_of_strategies,size=50):\n",
    "    population = np.random.randint(0,number_of_strategies,size)\n",
    "    return population"
   ]
  },
  {
   "cell_type": "markdown",
   "id": "aquatic-proceeding",
   "metadata": {},
   "source": [
    "### 定义游戏"
   ]
  },
  {
   "cell_type": "markdown",
   "id": "opening-female",
   "metadata": {},
   "source": [
    "| |        |  B     |        |  \n",
    "|-|--------|--------|--------|  \n",
    "| |（2，2）|（4，0）|（4，0）|  \n",
    "|A|（0，4）|（3，3）|（5，1）|  \n",
    "| |（0，4）|（1，5）|（4，4）|  "
   ]
  },
  {
   "cell_type": "code",
   "execution_count": 5,
   "id": "right-provincial",
   "metadata": {},
   "outputs": [],
   "source": [
    "td = (np.array([[2,4,4],\n",
    "               [0,3,5],\n",
    "               [0,1,4]]),\n",
    "     np.array([[2,0,0],\n",
    "              [4,3,1],\n",
    "              [4,5,4]]))"
   ]
  },
  {
   "cell_type": "markdown",
   "id": "reflected-information",
   "metadata": {},
   "source": [
    "### 定义得分"
   ]
  },
  {
   "cell_type": "code",
   "execution_count": 6,
   "id": "educational-share",
   "metadata": {},
   "outputs": [],
   "source": [
    "def get_scores(population,opponents,game):\n",
    "    return[(game[0][i,j],game[1][i,j])\n",
    "          for i,j in zip(population,opponents)]"
   ]
  },
  {
   "cell_type": "markdown",
   "id": "fundamental-spending",
   "metadata": {},
   "source": [
    "### 博弈"
   ]
  },
  {
   "cell_type": "code",
   "execution_count": 7,
   "id": "illegal-sodium",
   "metadata": {},
   "outputs": [
    {
     "data": {
      "text/plain": [
       "array([1, 2, 1, 0, 0, 2, 0, 1, 1, 1])"
      ]
     },
     "execution_count": 7,
     "metadata": {},
     "output_type": "execute_result"
    }
   ],
   "source": [
    "# 初始化角色A选择（随机行）\n",
    "# np.random.seed(0)\n",
    "population = get_population(3,10)\n",
    "population"
   ]
  },
  {
   "cell_type": "code",
   "execution_count": 8,
   "id": "advance-publication",
   "metadata": {},
   "outputs": [
    {
     "data": {
      "text/plain": [
       "array([2, 1, 0, 0, 0, 0, 1, 0, 1, 1])"
      ]
     },
     "execution_count": 8,
     "metadata": {},
     "output_type": "execute_result"
    }
   ],
   "source": [
    "# 初始化对手B选择（随机列）\n",
    "opponents = get_population(3,10)\n",
    "opponents"
   ]
  },
  {
   "cell_type": "code",
   "execution_count": 9,
   "id": "accessory-saudi",
   "metadata": {},
   "outputs": [
    {
     "data": {
      "text/plain": [
       "[(5, 1),\n",
       " (1, 5),\n",
       " (0, 4),\n",
       " (2, 2),\n",
       " (2, 2),\n",
       " (0, 4),\n",
       " (4, 0),\n",
       " (0, 4),\n",
       " (3, 3),\n",
       " (3, 3)]"
      ]
     },
     "execution_count": 9,
     "metadata": {},
     "output_type": "execute_result"
    }
   ],
   "source": [
    "# 计算A、B的得分矩阵（根据游戏td）\n",
    "scores = get_scores(population,opponents,td)\n",
    "scores"
   ]
  },
  {
   "cell_type": "code",
   "execution_count": 10,
   "id": "large-calcium",
   "metadata": {},
   "outputs": [],
   "source": [
    "# 更新策略\n",
    "def mutate(scores,population,opponents):\n",
    "    mutated_population = []\n",
    "    for score,strategy_pair in zip(scores,zip(population,opponents)):\n",
    "        if score[1] >= score[0]:\n",
    "#             若A得分小于等于B，则将B的选择（第几列）添加到mutated_population\n",
    "            mutated_population.append(strategy_pair[1])\n",
    "        else:\n",
    "#             若A得分大于于B，则将A的选择（第几行）添加到mutated_population\n",
    "            mutated_population.append(strategy_pair[0])\n",
    "    return np.array(mutated_population)"
   ]
  },
  {
   "cell_type": "code",
   "execution_count": 11,
   "id": "acknowledged-custom",
   "metadata": {},
   "outputs": [
    {
     "data": {
      "text/plain": [
       "array([1, 1, 0, 0, 0, 0, 0, 0, 1, 1])"
      ]
     },
     "execution_count": 11,
     "metadata": {},
     "output_type": "execute_result"
    }
   ],
   "source": [
    "mutate(scores,population,opponents)"
   ]
  },
  {
   "cell_type": "code",
   "execution_count": 12,
   "id": "atmospheric-people",
   "metadata": {},
   "outputs": [],
   "source": [
    "def evolve(game,size,generations):\n",
    "    population = get_population(len(game[0]),size)\n",
    "    opponents = get_population(len(game[0]),size)\n",
    "    \n",
    "    history = [population]\n",
    "    \n",
    "    for i in range(generations):\n",
    "#         初始化得分矩阵\n",
    "        scores = get_scores(population,opponents,game)\n",
    "#         更新策略\n",
    "        population = mutate(scores,population,opponents)\n",
    "#         更新对手的随机选择\n",
    "        opponents = get_population(len(game[0]),size)\n",
    "#         将更新的策略加入历史记录\n",
    "        history.append(population)\n",
    "        \n",
    "    return history"
   ]
  },
  {
   "cell_type": "code",
   "execution_count": 13,
   "id": "occasional-hearts",
   "metadata": {},
   "outputs": [],
   "source": [
    "def zeroArray(I,J):\n",
    "    m = []\n",
    "    for i in range(I):\n",
    "        fill = 0\n",
    "        m.append([fill]*J)\n",
    "    return m"
   ]
  },
  {
   "cell_type": "code",
   "execution_count": 14,
   "id": "novel-marshall",
   "metadata": {},
   "outputs": [
    {
     "data": {
      "image/png": "[encoded data removed]",
      "text/plain": [
       "<Figure size 432x288 with 1 Axes>"
      ]
     },
     "metadata": {
      "needs_background": "light"
     },
     "output_type": "display_data"
    }
   ],
   "source": [
    "if __name__ == '__main__':\n",
    "    generations = 11\n",
    "    game = td\n",
    "    \n",
    "    history = evolve(game,20,generations)\n",
    "    num_hang = game[0].shape[0]\n",
    "    num_lie = game[0].shape[1]\n",
    "    num_pic = zeroArray(generations,num_lie)\n",
    "    for i in range(generations):\n",
    "        for j in history[i]:\n",
    "            num_pic[i][j] += 1\n",
    "    plt.plot(num_pic)"
   ]
  },
  {
   "cell_type": "code",
   "execution_count": 15,
   "id": "rural-stereo",
   "metadata": {},
   "outputs": [
    {
     "data": {
      "image/png": "[encoded data removed]",
      "text/plain": [
       "<Figure size 432x288 with 1 Axes>"
      ]
     },
     "metadata": {
      "needs_background": "light"
     },
     "output_type": "display_data"
    }
   ],
   "source": [
    "if __name__ == '__main__':\n",
    "    generations = 21\n",
    "    game = rpsls\n",
    "    \n",
    "    history = evolve(game,20,generations)\n",
    "    num_hang = game[0].shape[0]\n",
    "    num_lie = game[0].shape[1]\n",
    "    num_pic = zeroArray(generations,num_lie)\n",
    "    for i in range(generations):\n",
    "        for j in history[i]:\n",
    "            num_pic[i][j] += 1\n",
    "    plt.plot(num_pic)"
   ]
  }
 ],
 "metadata": {
  "kernelspec": {
   "display_name": "Python 3",
   "language": "python",
   "name": "python3"
  },
  "language_info": {
   "codemirror_mode": {
    "name": "ipython",
    "version": 3
   },
   "file_extension": ".py",
   "mimetype": "text/x-python",
   "name": "python",
   "nbconvert_exporter": "python",
   "pygments_lexer": "ipython3",
   "version": "3.6.13"
  }
 },
 "nbformat": 4,
 "nbformat_minor": 5
}
