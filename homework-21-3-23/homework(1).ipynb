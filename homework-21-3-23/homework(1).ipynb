{
 "cells": [
  {
   "cell_type": "markdown",
   "id": "rural-worth",
   "metadata": {},
   "source": [
    "# 旅行者困境"
   ]
  },
  {
   "cell_type": "markdown",
   "id": "center-bookmark",
   "metadata": {},
   "source": [
    "## 导包"
   ]
  },
  {
   "cell_type": "code",
   "execution_count": 1,
   "id": "particular-channels",
   "metadata": {},
   "outputs": [],
   "source": [
    "import numpy as np\n",
    "import nashpy as nash\n",
    "import matplotlib.pyplot as plt"
   ]
  },
  {
   "cell_type": "markdown",
   "id": "adaptive-coverage",
   "metadata": {},
   "source": [
    "## 博弈游戏  \n",
    "通过传递两个二维数组/列表来创建双向矩阵游戏，每一对数表示该玩家选择该行（列）选择所获得的分数：  \n",
    "（2，2） （4，0） （4，0）  \n",
    "（0，4） （3，3） （5，1）  \n",
    "（0，4） （1，5） （4，4）"
   ]
  },
  {
   "cell_type": "code",
   "execution_count": 2,
   "id": "electoral-cloud",
   "metadata": {},
   "outputs": [
    {
     "data": {
      "text/plain": [
       "[(array([1., 0., 0.]), array([1., 0., 0.]))]"
      ]
     },
     "execution_count": 2,
     "metadata": {},
     "output_type": "execute_result"
    }
   ],
   "source": [
    "td = (np.array([[2,4,4],\n",
    "               [0,3,5],\n",
    "               [0,1,4]]),\n",
    "     np.array([[2,0,0],\n",
    "              [4,3,1],\n",
    "              [4,5,4]]))\n",
    "game = nash.Game(*td)\n",
    "# list(game.equilibria())\n",
    "list(game.support_enumeration())"
   ]
  },
  {
   "cell_type": "markdown",
   "id": "statutory-terry",
   "metadata": {},
   "source": [
    "这里[1, 0, 0]表示概率向量，表示玩家应该玩给定策略的概率。因此，在这种情况下，两个玩家都应该选择他们的第一选择，这将给我们得分2 ，2。之所以称其为纳什均衡，是因为在此位置，两个玩家都没有理由偏离（如果他们这样做，他们的得分就会下降，例如A选择第2行选项，则B会选择第1列选项导致A得分为0，而B得分为4）。"
   ]
  },
  {
   "cell_type": "markdown",
   "id": "human-pressure",
   "metadata": {},
   "source": [
    "Rock\\Paper\\Scissors\\Lizard\\Spock  \n",
    "(0,0) (-1,1) (1,-1) (1,-1) (-1,1)  \n",
    "(1,-1) (0,0) (-1,1) (-1,1) (1,-1)  \n",
    "(-1,1) (1,-1) (0,0) (1,-1) (-1,1)  \n",
    "(-1,1) (1,-1) (-1,1) (0,0) (1,-1)  \n",
    "(1,-1) (-1,1) (1,-1) (-1,1) (0,0)"
   ]
  },
  {
   "cell_type": "code",
   "execution_count": 3,
   "id": "brave-trinidad",
   "metadata": {},
   "outputs": [
    {
     "data": {
      "text/plain": [
       "[(array([0.2, 0.2, 0.2, 0.2, 0.2]), array([0.2, 0.2, 0.2, 0.2, 0.2]))]"
      ]
     },
     "execution_count": 3,
     "metadata": {},
     "output_type": "execute_result"
    }
   ],
   "source": [
    "rpsls = np.array([[0,-1,1,1,-1],\n",
    "                 [1,0,-1,-1,1],\n",
    "                 [-1,1,0,1,-1],\n",
    "                 [-1,1,-1,0,1],\n",
    "                 [1,-1,1,-1,0]])\n",
    "# 另一个矩阵与该矩阵的正负恰好相反，因此直接加负号后拼接在一起\n",
    "rpsls = (rpsls,-rpsls)\n",
    "game = nash.Game(*rpsls)\n",
    "list(game.support_enumeration())"
   ]
  },
  {
   "cell_type": "markdown",
   "id": "unusual-briefing",
   "metadata": {},
   "source": [
    "我们可以看到，两个玩家都应该随机完美地玩：以正好1/5的概率玩每个选项。这一切都是公平和良好的，纳什均衡在博弈论中是一个非常强大且重要的解决方案"
   ]
  },
  {
   "cell_type": "markdown",
   "id": "alone-survivor",
   "metadata": {},
   "source": [
    "## python实现博弈过程"
   ]
  },
  {
   "cell_type": "markdown",
   "id": "acoustic-stewart",
   "metadata": {},
   "source": [
    "### 获得随机选择"
   ]
  },
  {
   "cell_type": "code",
   "execution_count": 4,
   "id": "furnished-python",
   "metadata": {},
   "outputs": [],
   "source": [
    "# 默认大小为50\n",
    "def get_population(number_of_strategies,size=50):\n",
    "    population = np.random.randint(0,number_of_strategies,size)\n",
    "    return population"
   ]
  },
  {
   "cell_type": "markdown",
   "id": "gorgeous-cycling",
   "metadata": {},
   "source": [
    "### 定义游戏"
   ]
  },
  {
   "cell_type": "markdown",
   "id": "indie-writing",
   "metadata": {},
   "source": [
    "| |        |  B     |        |  \n",
    "|-|--------|--------|--------|  \n",
    "| |（2，2）|（4，0）|（4，0）|  \n",
    "|A|（0，4）|（3，3）|（5，1）|  \n",
    "| |（0，4）|（1，5）|（4，4）|  "
   ]
  },
  {
   "cell_type": "code",
   "execution_count": 5,
   "id": "material-maximum",
   "metadata": {},
   "outputs": [],
   "source": [
    "td = (np.array([[2,4,4],\n",
    "               [0,3,5],\n",
    "               [0,1,4]]),\n",
    "     np.array([[2,0,0],\n",
    "              [4,3,1],\n",
    "              [4,5,4]]))"
   ]
  },
  {
   "cell_type": "code",
   "execution_count": 6,
   "id": "mysterious-individual",
   "metadata": {},
   "outputs": [],
   "source": [
    "rpsls = np.array([[0,-1,1,1,-1],\n",
    "                 [1,0,-1,-1,1],\n",
    "                 [-1,1,0,1,-1],\n",
    "                 [-1,1,-1,0,1],\n",
    "                 [1,-1,1,-1,0]])\n",
    "rpsls = (rpsls,-rpsls)"
   ]
  },
  {
   "cell_type": "markdown",
   "id": "radio-bankruptcy",
   "metadata": {},
   "source": [
    "### 定义得分"
   ]
  },
  {
   "cell_type": "code",
   "execution_count": 7,
   "id": "labeled-hayes",
   "metadata": {},
   "outputs": [],
   "source": [
    "def get_scores(population,opponents,game):\n",
    "    return[(game[0][i,j],game[1][i,j])\n",
    "          for i,j in zip(population,opponents)]"
   ]
  },
  {
   "cell_type": "markdown",
   "id": "liable-memphis",
   "metadata": {},
   "source": [
    "### 博弈"
   ]
  },
  {
   "cell_type": "code",
   "execution_count": 8,
   "id": "communist-penguin",
   "metadata": {},
   "outputs": [
    {
     "data": {
      "text/plain": [
       "array([1, 0, 2, 2, 2, 2, 0, 2, 2, 1])"
      ]
     },
     "execution_count": 8,
     "metadata": {},
     "output_type": "execute_result"
    }
   ],
   "source": [
    "# 初始化角色A选择（随机行）\n",
    "# np.random.seed(0)\n",
    "population = get_population(3,10)\n",
    "population"
   ]
  },
  {
   "cell_type": "code",
   "execution_count": 9,
   "id": "floating-consolidation",
   "metadata": {},
   "outputs": [
    {
     "data": {
      "text/plain": [
       "array([2, 1, 1, 1, 0, 0, 0, 0, 2, 1])"
      ]
     },
     "execution_count": 9,
     "metadata": {},
     "output_type": "execute_result"
    }
   ],
   "source": [
    "# 初始化对手B选择（随机列）\n",
    "opponents = get_population(3,10)\n",
    "opponents"
   ]
  },
  {
   "cell_type": "code",
   "execution_count": 10,
   "id": "empty-miami",
   "metadata": {},
   "outputs": [
    {
     "data": {
      "text/plain": [
       "[(5, 1),\n",
       " (4, 0),\n",
       " (1, 5),\n",
       " (1, 5),\n",
       " (0, 4),\n",
       " (0, 4),\n",
       " (2, 2),\n",
       " (0, 4),\n",
       " (4, 4),\n",
       " (3, 3)]"
      ]
     },
     "execution_count": 10,
     "metadata": {},
     "output_type": "execute_result"
    }
   ],
   "source": [
    "# 计算A、B的得分矩阵（根据游戏td）\n",
    "scores = get_scores(population,opponents,td)\n",
    "scores"
   ]
  },
  {
   "cell_type": "code",
   "execution_count": 11,
   "id": "corresponding-arbor",
   "metadata": {},
   "outputs": [],
   "source": [
    "# 更新策略\n",
    "def mutate(scores,population,opponents):\n",
    "    mutated_population = []\n",
    "    for score,strategy_pair in zip(scores,zip(population,opponents)):\n",
    "        if score[1] >= score[0]:\n",
    "#             若A得分小于等于B，则将B的选择（第几列）添加到mutated_population\n",
    "            mutated_population.append(strategy_pair[1])\n",
    "        else:\n",
    "#             若A得分大于于B，则将A的选择（第几行）添加到mutated_population\n",
    "            mutated_population.append(strategy_pair[0])\n",
    "    return np.array(mutated_population)"
   ]
  },
  {
   "cell_type": "code",
   "execution_count": 12,
   "id": "abroad-bathroom",
   "metadata": {},
   "outputs": [
    {
     "data": {
      "text/plain": [
       "array([1, 0, 1, 1, 0, 0, 0, 0, 2, 1])"
      ]
     },
     "execution_count": 12,
     "metadata": {},
     "output_type": "execute_result"
    }
   ],
   "source": [
    "mutate(scores,population,opponents)"
   ]
  },
  {
   "cell_type": "code",
   "execution_count": 13,
   "id": "sudden-convertible",
   "metadata": {},
   "outputs": [],
   "source": [
    "def evolve(game,size,generations):\n",
    "    population = get_population(len(game[0]),size)\n",
    "    opponents = get_population(len(game[0]),size)\n",
    "    \n",
    "    history = [population]\n",
    "    \n",
    "    for i in range(generations):\n",
    "#         初始化得分矩阵\n",
    "        scores = get_scores(population,opponents,game)\n",
    "#         更新策略\n",
    "        population = mutate(scores,population,opponents)\n",
    "#         更新对手的随机选择\n",
    "        opponents = get_population(len(game[0]),size)\n",
    "#         将更新的策略加入历史记录\n",
    "        history.append(population)\n",
    "        \n",
    "    return history"
   ]
  },
  {
   "cell_type": "code",
   "execution_count": 14,
   "id": "nervous-niagara",
   "metadata": {},
   "outputs": [],
   "source": [
    "def zeroArray(I,J):\n",
    "    m = []\n",
    "    for i in range(I):\n",
    "        fill = 0\n",
    "        m.append([fill]*J)\n",
    "    return m"
   ]
  },
  {
   "cell_type": "code",
   "execution_count": 15,
   "id": "dynamic-tracy",
   "metadata": {},
   "outputs": [
    {
     "name": "stdout",
     "output_type": "stream",
     "text": [
      "[[8, 7, 5], [13, 6, 1], [16, 4, 0], [16, 4, 0], [19, 1, 0], [19, 1, 0], [19, 1, 0], [19, 1, 0], [19, 1, 0], [19, 1, 0], [19, 1, 0]]\n",
      "11\n"
     ]
    },
    {
     "data": {
      "image/png": "[encoded data removed]",
      "text/plain": [
       "<Figure size 432x288 with 1 Axes>"
      ]
     },
     "metadata": {
      "needs_background": "light"
     },
     "output_type": "display_data"
    }
   ],
   "source": [
    "if __name__ == '__main__':\n",
    "#     定义迭代次数\n",
    "    generations = 11\n",
    "#     定义游戏类型\n",
    "    game = td\n",
    "#     定义每一代游戏的选择次数\n",
    "    count = 20\n",
    "    \n",
    "    history = evolve(game,count,generations)\n",
    "    num_hang = game[0].shape[0]\n",
    "    num_lie = game[0].shape[1]\n",
    "    num_pic = zeroArray(generations,num_lie)\n",
    "    for i in range(generations):\n",
    "        for j in history[i]:\n",
    "            num_pic[i][j] += 1\n",
    "    plt.xlabel(\"generations\")\n",
    "    plt.ylabel(\"count\")\n",
    "    print(num_pic)\n",
    "    print(len(num_pic))\n",
    "    plt.plot(num_pic,marker=\".\")"
   ]
  },
  {
   "cell_type": "markdown",
   "id": "british-edinburgh",
   "metadata": {},
   "source": [
    "### 为图像添加注释"
   ]
  },
  {
   "cell_type": "code",
   "execution_count": 16,
   "id": "acceptable-cricket",
   "metadata": {},
   "outputs": [
    {
     "data": {
      "image/png": "[encoded data removed]",
      "text/plain": [
       "<Figure size 432x288 with 1 Axes>"
      ]
     },
     "metadata": {
      "needs_background": "light"
     },
     "output_type": "display_data"
    }
   ],
   "source": [
    "if __name__ == '__main__':\n",
    "#     定义迭代次数\n",
    "    generations = 11\n",
    "#     定义游戏类型\n",
    "    game = td\n",
    "#     定义每一代游戏的选择次数\n",
    "    count = 20\n",
    "    \n",
    "    history = evolve(game,count,generations)\n",
    "    num = game[0].shape[0]\n",
    "    num_pic = zeroArray(generations,num)\n",
    "    for i in range(generations):\n",
    "        for j in history[i]:\n",
    "            num_pic[i][j] += 1\n",
    "    plt.xlabel(\"generations\")\n",
    "    plt.ylabel(\"count\")\n",
    "#     plt.plot(num_pic,marker=\".\")\n",
    "    num_count = zeroArray(num,generations)\n",
    "    for i in range(generations):\n",
    "        for j in range(num):\n",
    "            num_count[j][i] = num_pic[i][j]\n",
    "#     plt.plot(num_count[0],label='0')\n",
    "#     plt.plot(num_count[1],label='1')\n",
    "#     plt.plot(num_count[2],label='2')\n",
    "    for i in range(num):\n",
    "        plt.plot(num_count[i],marker='.',label=i)\n",
    "    plt.legend()\n",
    "    plt.grid()\n",
    "    plt.show()"
   ]
  },
  {
   "cell_type": "markdown",
   "id": "norwegian-lindsay",
   "metadata": {},
   "source": [
    "### 更改游戏"
   ]
  },
  {
   "cell_type": "code",
   "execution_count": 17,
   "id": "eight-suite",
   "metadata": {},
   "outputs": [
    {
     "data": {
      "image/png": "[encoded data removed]",
      "text/plain": [
       "<Figure size 432x288 with 1 Axes>"
      ]
     },
     "metadata": {
      "needs_background": "light"
     },
     "output_type": "display_data"
    }
   ],
   "source": [
    "if __name__ == '__main__':\n",
    "    generations = 21\n",
    "#     更改游戏类型为rpsls\n",
    "    game = rpsls\n",
    "    count = 20\n",
    "    \n",
    "    history = evolve(game,count,generations)\n",
    "    num = game[0].shape[0]\n",
    "    num_pic = zeroArray(generations,num)\n",
    "    for i in range(generations):\n",
    "        for j in history[i]:\n",
    "            num_pic[i][j] += 1\n",
    "    plt.xlabel(\"generations\")\n",
    "    plt.ylabel(\"count\")\n",
    "#     plt.plot(num_pic,marker=\".\")\n",
    "    num_count = zeroArray(num,generations)\n",
    "    for i in range(generations):\n",
    "        for j in range(num):\n",
    "            num_count[j][i] = num_pic[i][j]\n",
    "#     plt.plot(num_count[0],label='0')\n",
    "#     plt.plot(num_count[1],label='1')\n",
    "#     plt.plot(num_count[2],label='2')\n",
    "    for i in range(num):\n",
    "        plt.plot(num_count[i],marker='.',label=i)\n",
    "    plt.legend()\n",
    "    plt.grid()\n",
    "    plt.show()"
   ]
  },
  {
   "cell_type": "markdown",
   "id": "engaging-return",
   "metadata": {},
   "source": [
    "## 附录（plt.plot?）"
   ]
  },
  {
   "cell_type": "code",
   "execution_count": 18,
   "id": "secure-terminal",
   "metadata": {},
   "outputs": [],
   "source": [
    "# plt.plot?"
   ]
  },
  {
   "cell_type": "markdown",
   "id": "structural-german",
   "metadata": {},
   "source": [
    "=============    ===============================  \n",
    "character        description  \n",
    "=============    ===============================  \n",
    "``'.'``          point marker  \n",
    "``','``          pixel marker  \n",
    "``'o'``          circle marker  \n",
    "``'v'``          triangle_down marker  \n",
    "``'^'``          triangle_up marker  \n",
    "``'<'``          triangle_left marker  \n",
    "``'>'``          triangle_right marker  \n",
    "``'1'``          tri_down marker  \n",
    "``'2'``          tri_up marker  \n",
    "``'3'``          tri_left marker  \n",
    "``'4'``          tri_right marker  \n",
    "``'s'``          square marker  \n",
    "``'p'``          pentagon marker  \n",
    "``'*'``          star marker  \n",
    "``'h'``          hexagon1 marker  \n",
    "``'H'``          hexagon2 marker  \n",
    "``'+'``          plus marker  \n",
    "``'x'``          x marker  \n",
    "``'D'``          diamond marker  \n",
    "``'d'``          thin_diamond marker  \n",
    "``'|'``          vline marker  \n",
    "``'_'``          hline marker  \n",
    "=============    ==============================="
   ]
  },
  {
   "cell_type": "markdown",
   "id": "opening-ranking",
   "metadata": {},
   "source": [
    "参考文献： https://vknight.org/unpeudemath/mathematics/2017/03/08/simple-evolutionary-process.html  \n",
    "NashPy： https://github.com/drvinceknight/Nashpy/tree/v0.0.17"
   ]
  }
 ],
 "metadata": {
  "kernelspec": {
   "display_name": "Python 3",
   "language": "python",
   "name": "python3"
  },
  "language_info": {
   "codemirror_mode": {
    "name": "ipython",
    "version": 3
   },
   "file_extension": ".py",
   "mimetype": "text/x-python",
   "name": "python",
   "nbconvert_exporter": "python",
   "pygments_lexer": "ipython3",
   "version": "3.6.13"
  }
 },
 "nbformat": 4,
 "nbformat_minor": 5
}
